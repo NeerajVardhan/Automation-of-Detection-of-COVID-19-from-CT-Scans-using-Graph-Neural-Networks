{
  "cells": [
    {
      "cell_type": "code",
      "execution_count": null,
      "metadata": {
        "id": "JPSdoDK8wHFn"
      },
      "outputs": [],
      "source": [
        "'''import torch\n",
        "\n",
        "def format_pytorch_version(version):\n",
        "  return version.split('+')[0]\n",
        "\n",
        "TORCH_version = torch.__version__\n",
        "TORCH = format_pytorch_version(TORCH_version)\n",
        "\n",
        "def format_cuda_version(version):\n",
        "  return 'cu' + version.replace('.', '')\n",
        "\n",
        "CUDA_version = torch.version.cuda\n",
        "CUDA = format_cuda_version(CUDA_version)\n",
        "\n",
        "'''"
      ]
    },
    {
      "cell_type": "code",
      "execution_count": 4,
      "metadata": {
        "colab": {
          "base_uri": "https://localhost:8080/"
        },
        "id": "L3By3OD_2IGP",
        "outputId": "667c3b04-66b6-4c0f-c565-03bb2527b5a7"
      },
      "outputs": [
        {
          "name": "stdout",
          "output_type": "stream",
          "text": [
            "1.10.0\n"
          ]
        }
      ],
      "source": [
        "print(torch.__version__)"
      ]
    },
    {
      "cell_type": "code",
      "execution_count": null,
      "metadata": {
        "colab": {
          "base_uri": "https://localhost:8080/"
        },
        "id": "gRSwHDEu2CAu",
        "outputId": "c9e9f9ee-2fe7-41e9-db2f-b2c07d3eb5f0"
      },
      "outputs": [
        {
          "name": "stdout",
          "output_type": "stream",
          "text": [
            "Looking in links: https://data.pyg.org/whl/torch-1.10.0+cu111.html\n",
            "Collecting torch-scatter\n",
            "  Downloading https://data.pyg.org/whl/torch-1.10.0%2Bcu113/torch_scatter-2.0.9-cp37-cp37m-linux_x86_64.whl (7.9 MB)\n",
            "\u001b[K     |████████████████████████████████| 7.9 MB 3.8 MB/s \n",
            "\u001b[?25hInstalling collected packages: torch-scatter\n",
            "Successfully installed torch-scatter-2.0.9\n",
            "Looking in links: https://data.pyg.org/whl/torch-1.10.0+cu111.html\n",
            "Collecting torch-sparse\n",
            "  Downloading https://data.pyg.org/whl/torch-1.10.0%2Bcu113/torch_sparse-0.6.12-cp37-cp37m-linux_x86_64.whl (3.5 MB)\n",
            "\u001b[K     |████████████████████████████████| 3.5 MB 4.5 MB/s \n",
            "\u001b[?25hRequirement already satisfied: scipy in /usr/local/lib/python3.7/dist-packages (from torch-sparse) (1.4.1)\n",
            "Requirement already satisfied: numpy>=1.13.3 in /usr/local/lib/python3.7/dist-packages (from scipy->torch-sparse) (1.19.5)\n",
            "Installing collected packages: torch-sparse\n",
            "Successfully installed torch-sparse-0.6.12\n",
            "Collecting torch-geometric\n",
            "  Downloading torch_geometric-2.0.2.tar.gz (325 kB)\n",
            "\u001b[K     |████████████████████████████████| 325 kB 4.4 MB/s \n",
            "\u001b[?25hRequirement already satisfied: numpy in /usr/local/lib/python3.7/dist-packages (from torch-geometric) (1.19.5)\n",
            "Requirement already satisfied: tqdm in /usr/local/lib/python3.7/dist-packages (from torch-geometric) (4.62.3)\n",
            "Requirement already satisfied: scipy in /usr/local/lib/python3.7/dist-packages (from torch-geometric) (1.4.1)\n",
            "Requirement already satisfied: networkx in /usr/local/lib/python3.7/dist-packages (from torch-geometric) (2.6.3)\n",
            "Requirement already satisfied: scikit-learn in /usr/local/lib/python3.7/dist-packages (from torch-geometric) (1.0.1)\n",
            "Requirement already satisfied: requests in /usr/local/lib/python3.7/dist-packages (from torch-geometric) (2.23.0)\n",
            "Requirement already satisfied: pandas in /usr/local/lib/python3.7/dist-packages (from torch-geometric) (1.1.5)\n",
            "Collecting rdflib\n",
            "  Downloading rdflib-6.0.2-py3-none-any.whl (407 kB)\n",
            "\u001b[K     |████████████████████████████████| 407 kB 43.4 MB/s \n",
            "\u001b[?25hRequirement already satisfied: googledrivedownloader in /usr/local/lib/python3.7/dist-packages (from torch-geometric) (0.4)\n",
            "Requirement already satisfied: jinja2 in /usr/local/lib/python3.7/dist-packages (from torch-geometric) (2.11.3)\n",
            "Requirement already satisfied: pyparsing in /usr/local/lib/python3.7/dist-packages (from torch-geometric) (3.0.6)\n",
            "Collecting yacs\n",
            "  Downloading yacs-0.1.8-py3-none-any.whl (14 kB)\n",
            "Requirement already satisfied: PyYAML in /usr/local/lib/python3.7/dist-packages (from torch-geometric) (3.13)\n",
            "Requirement already satisfied: MarkupSafe>=0.23 in /usr/local/lib/python3.7/dist-packages (from jinja2->torch-geometric) (2.0.1)\n",
            "Requirement already satisfied: pytz>=2017.2 in /usr/local/lib/python3.7/dist-packages (from pandas->torch-geometric) (2018.9)\n",
            "Requirement already satisfied: python-dateutil>=2.7.3 in /usr/local/lib/python3.7/dist-packages (from pandas->torch-geometric) (2.8.2)\n",
            "Requirement already satisfied: six>=1.5 in /usr/local/lib/python3.7/dist-packages (from python-dateutil>=2.7.3->pandas->torch-geometric) (1.15.0)\n",
            "Requirement already satisfied: setuptools in /usr/local/lib/python3.7/dist-packages (from rdflib->torch-geometric) (57.4.0)\n",
            "Collecting isodate\n",
            "  Downloading isodate-0.6.0-py2.py3-none-any.whl (45 kB)\n",
            "\u001b[K     |████████████████████████████████| 45 kB 3.1 MB/s \n",
            "\u001b[?25hRequirement already satisfied: urllib3!=1.25.0,!=1.25.1,<1.26,>=1.21.1 in /usr/local/lib/python3.7/dist-packages (from requests->torch-geometric) (1.24.3)\n",
            "Requirement already satisfied: chardet<4,>=3.0.2 in /usr/local/lib/python3.7/dist-packages (from requests->torch-geometric) (3.0.4)\n",
            "Requirement already satisfied: certifi>=2017.4.17 in /usr/local/lib/python3.7/dist-packages (from requests->torch-geometric) (2021.10.8)\n",
            "Requirement already satisfied: idna<3,>=2.5 in /usr/local/lib/python3.7/dist-packages (from requests->torch-geometric) (2.10)\n",
            "Requirement already satisfied: joblib>=0.11 in /usr/local/lib/python3.7/dist-packages (from scikit-learn->torch-geometric) (1.1.0)\n",
            "Requirement already satisfied: threadpoolctl>=2.0.0 in /usr/local/lib/python3.7/dist-packages (from scikit-learn->torch-geometric) (3.0.0)\n",
            "Building wheels for collected packages: torch-geometric\n",
            "  Building wheel for torch-geometric (setup.py) ... \u001b[?25l\u001b[?25hdone\n",
            "  Created wheel for torch-geometric: filename=torch_geometric-2.0.2-py3-none-any.whl size=535570 sha256=7119a6cb7ef61f436146b547037489faad7bc489c49d71dcadc6f779b2685c4f\n",
            "  Stored in directory: /root/.cache/pip/wheels/3f/08/13/2321517088bb2e95bfd0e45033bb9c923189e5b2078e0be4ef\n",
            "Successfully built torch-geometric\n",
            "Installing collected packages: isodate, yacs, rdflib, torch-geometric\n",
            "Successfully installed isodate-0.6.0 rdflib-6.0.2 torch-geometric-2.0.2 yacs-0.1.8\n"
          ]
        }
      ],
      "source": [
        "#!pip install torch-scatter -f https://data.pyg.org/whl/torch-1.10.0+cu111.html\n",
        "#!pip install torch-sparse -f https://data.pyg.org/whl/torch-1.10.0+cu111.html\n",
        "#!pip install torch-geometric"
      ]
    },
    {
      "cell_type": "code",
      "execution_count": null,
      "metadata": {
        "colab": {
          "base_uri": "https://localhost:8080/"
        },
        "id": "kd8HhKDg8s7x",
        "outputId": "6ffd8360-f480-496b-af66-a439da441562"
      },
      "outputs": [
        {
          "name": "stdout",
          "output_type": "stream",
          "text": [
            "\u001b[31mERROR: Could not find a version that satisfies the requirement pytorch-cpu (from versions: none)\u001b[0m\n",
            "\u001b[31mERROR: No matching distribution found for pytorch-cpu\u001b[0m\n"
          ]
        }
      ],
      "source": [
        "#!pip3 install pytorch-cpu"
      ]
    },
    {
      "cell_type": "code",
      "execution_count": 1,
      "metadata": {
        "id": "Z88SVXMZNevj"
      },
      "outputs": [],
      "source": [
        "import torch\n",
        "from torch_geometric.data import Data\n",
        "from torch_geometric.data import DataLoader\n",
        "from torch_geometric.data import InMemoryDataset\n",
        "from torch_geometric.io import read_tu_data\n",
        "from torch_geometric.io import read_txt_array\n",
        "import os.path as osp\n"
      ]
    },
    {
      "cell_type": "code",
      "execution_count": 2,
      "metadata": {
        "id": "kEQfGhICNxe6"
      },
      "outputs": [],
      "source": [
        "class GraphDataset(InMemoryDataset):\n",
        "    def __init__(self, root, name, transform=None, pre_transform=None,\n",
        "                 pre_filter=None, use_node_attr=False, use_edge_attr=False):\n",
        "        self.name = name\n",
        "        super(GraphDataset, self).__init__(root, transform, pre_transform,\n",
        "                                        pre_filter)\n",
        "        self.data, self.slices = torch.load(self.processed_paths[0])\n",
        "        if self.data.x is not None and not use_node_attr:\n",
        "            num_node_attributes = self.num_node_attributes\n",
        "            self.data.x = self.data.x[:, num_node_attributes:]\n",
        "        if self.data.edge_attr is not None and not use_edge_attr:\n",
        "            num_edge_attributes = self.num_edge_attributes\n",
        "            self.data.edge_attr = self.data.edge_attr[:, num_edge_attributes:]\n",
        "\n",
        "    @property\n",
        "    def raw_dir(self):\n",
        "        name = 'raw{}'.format('')\n",
        "        return osp.join(self.root, self.name, name)\n",
        "\n",
        "    @property\n",
        "    def processed_dir(self):\n",
        "        name = 'processed{}'.format('')\n",
        "        return osp.join(self.root, self.name, name)\n",
        "\n",
        "    @property\n",
        "    def num_node_labels(self):\n",
        "        if self.data.x is None:\n",
        "            return 0\n",
        "        for i in range(self.data.x.size(1)):\n",
        "            x = self.data.x[:, i:]\n",
        "            if ((x == 0) | (x == 1)).all() and (x.sum(dim=1) == 1).all():\n",
        "                return self.data.x.size(1) - i\n",
        "        return 0\n",
        "\n",
        "    @property\n",
        "    def num_node_attributes(self):\n",
        "        if self.data.x is None:\n",
        "            return 0\n",
        "        return self.data.x.size(1) - self.num_node_labels\n",
        "\n",
        "    @property\n",
        "    def num_edge_labels(self):\n",
        "        if self.data.edge_attr is None:\n",
        "            return 0\n",
        "        for i in range(self.data.edge_attr.size(1)):\n",
        "            if self.data.edge_attr[:, i:].sum() == self.data.edge_attr.size(0):\n",
        "                return self.data.edge_attr.size(1) - i\n",
        "        return 0\n",
        "\n",
        "    @property\n",
        "    def num_edge_attributes(self):\n",
        "        if self.data.edge_attr is None:\n",
        "            return 0\n",
        "        return self.data.edge_attr.size(1) - self.num_edge_labels\n",
        "\n",
        "    @property\n",
        "    def raw_file_names(self):\n",
        "        names = ['A', 'graph_indicator','graph_labels','node_attributes','node_labels']\n",
        "        return ['{}_{}.txt'.format(self.name, name) for name in names]\n",
        "\n",
        "    @property\n",
        "    def processed_file_names(self):\n",
        "        return 'data.pt'\n",
        "\n",
        "    def process(self):\n",
        "        #torch_geometric.io.parse_txt_array = parse_txt_array\n",
        "        self.data, self.slices = torch_geometric.io.tu.read_tu_data(self.raw_dir, self.name)\n",
        "\n",
        "        if self.pre_filter is not None:\n",
        "            data_list = [self.get(idx) for idx in range(len(self))]\n",
        "            data_list = [data for data in data_list if self.pre_filter(data)]\n",
        "            self.data, self.slices = self.collate(data_list)\n",
        "\n",
        "        if self.pre_transform is not None:\n",
        "            data_list = [self.get(idx) for idx in range(len(self))]\n",
        "            data_list = [self.pre_transform(data) for data in data_list]\n",
        "            self.data, self.slices = self.collate(data_list)\n",
        "\n",
        "        torch.save((self.data, self.slices), self.processed_paths[0])\n",
        "\n",
        "    def __repr__(self):\n",
        "        return '{}({})'.format(self.name, len(self))\n",
        "\n",
        "    "
      ]
    },
    {
      "cell_type": "code",
      "execution_count": null,
      "metadata": {
        "id": "GtX9a8ZBTE6z"
      },
      "outputs": [],
      "source": []
    }
  ],
  "metadata": {
    "colab": {
      "collapsed_sections": [],
      "name": "data_loader.ipynb",
      "provenance": []
    },
    "kernelspec": {
      "display_name": "Python 3",
      "name": "python3"
    },
    "language_info": {
      "codemirror_mode": {
        "name": "ipython",
        "version": 3
      },
      "file_extension": ".py",
      "mimetype": "text/x-python",
      "name": "python",
      "nbconvert_exporter": "python",
      "pygments_lexer": "ipython3",
      "version": "3.9.7"
    }
  },
  "nbformat": 4,
  "nbformat_minor": 0
}
